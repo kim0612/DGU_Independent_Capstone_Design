{
 "cells": [
  {
   "cell_type": "markdown",
   "metadata": {},
   "source": [
    " "
   ]
  },
  {
   "cell_type": "code",
   "execution_count": 126,
   "metadata": {},
   "outputs": [],
   "source": [
    "## pip install xlrd         //엑셀다루는 기본페키지\n",
    "## !pip install -q sklearn   //train_test_split 사용할 페키지"
   ]
  },
  {
   "cell_type": "code",
   "execution_count": 170,
   "metadata": {},
   "outputs": [],
   "source": [
    "import tensorflow as tf\n",
    "import numpy as np\n",
    "import tensorflow.keras as keras\n",
    "import pandas as pd\n",
    "import os\n",
    "\n",
    "from tensorflow import feature_column\n",
    "from tensorflow.keras import models, layers\n",
    "from sklearn.model_selection import train_test_split"
   ]
  },
  {
   "cell_type": "markdown",
   "metadata": {},
   "source": [
    "## [첫번째 dataframe 받아와서 정제하기]"
   ]
  },
  {
   "cell_type": "code",
   "execution_count": 171,
   "metadata": {},
   "outputs": [],
   "source": [
    "def load_income_data(income_path):\n",
    "    csv_path = os.path.join(income_path,\n",
    "                            \"V10O1610293.csv\")\n",
    "    return pd.read_csv(csv_path)"
   ]
  },
  {
   "cell_type": "code",
   "execution_count": 172,
   "metadata": {},
   "outputs": [],
   "source": [
    "dataframe1 = load_income_data(\".\")"
   ]
  },
  {
   "cell_type": "code",
   "execution_count": 173,
   "metadata": {},
   "outputs": [
    {
     "name": "stdout",
     "output_type": "stream",
     "text": [
      "<class 'pandas.core.frame.DataFrame'>\n",
      "RangeIndex: 495360 entries, 0 to 495359\n",
      "Data columns (total 11 columns):\n",
      "tm             495360 non-null int64\n",
      "serial         495360 non-null object\n",
      "flag           495360 non-null int64\n",
      "pm10           495360 non-null int64\n",
      "co2            495360 non-null int64\n",
      "vocs           495360 non-null int64\n",
      "noise          495360 non-null int64\n",
      "temp           495360 non-null float64\n",
      "humi           495360 non-null int64\n",
      "pm25           490990 non-null float64\n",
      "Unnamed: 10    0 non-null float64\n",
      "dtypes: float64(3), int64(7), object(1)\n",
      "memory usage: 41.6+ MB\n"
     ]
    },
    {
     "data": {
      "text/html": [
       "<div>\n",
       "<style scoped>\n",
       "    .dataframe tbody tr th:only-of-type {\n",
       "        vertical-align: middle;\n",
       "    }\n",
       "\n",
       "    .dataframe tbody tr th {\n",
       "        vertical-align: top;\n",
       "    }\n",
       "\n",
       "    .dataframe thead th {\n",
       "        text-align: right;\n",
       "    }\n",
       "</style>\n",
       "<table border=\"1\" class=\"dataframe\">\n",
       "  <thead>\n",
       "    <tr style=\"text-align: right;\">\n",
       "      <th></th>\n",
       "      <th>tm</th>\n",
       "      <th>serial</th>\n",
       "      <th>flag</th>\n",
       "      <th>pm10</th>\n",
       "      <th>co2</th>\n",
       "      <th>vocs</th>\n",
       "      <th>noise</th>\n",
       "      <th>temp</th>\n",
       "      <th>humi</th>\n",
       "      <th>pm25</th>\n",
       "      <th>Unnamed: 10</th>\n",
       "    </tr>\n",
       "  </thead>\n",
       "  <tbody>\n",
       "    <tr>\n",
       "      <th>0</th>\n",
       "      <td>201804010000</td>\n",
       "      <td>V10O1610293</td>\n",
       "      <td>1</td>\n",
       "      <td>67</td>\n",
       "      <td>-9999</td>\n",
       "      <td>-9999</td>\n",
       "      <td>48</td>\n",
       "      <td>15.0</td>\n",
       "      <td>51</td>\n",
       "      <td>40.0</td>\n",
       "      <td>NaN</td>\n",
       "    </tr>\n",
       "    <tr>\n",
       "      <th>1</th>\n",
       "      <td>201804010001</td>\n",
       "      <td>V10O1610293</td>\n",
       "      <td>1</td>\n",
       "      <td>61</td>\n",
       "      <td>-9999</td>\n",
       "      <td>-9999</td>\n",
       "      <td>48</td>\n",
       "      <td>15.0</td>\n",
       "      <td>51</td>\n",
       "      <td>37.0</td>\n",
       "      <td>NaN</td>\n",
       "    </tr>\n",
       "    <tr>\n",
       "      <th>2</th>\n",
       "      <td>201804010002</td>\n",
       "      <td>V10O1610293</td>\n",
       "      <td>1</td>\n",
       "      <td>56</td>\n",
       "      <td>-9999</td>\n",
       "      <td>-9999</td>\n",
       "      <td>48</td>\n",
       "      <td>14.9</td>\n",
       "      <td>51</td>\n",
       "      <td>34.0</td>\n",
       "      <td>NaN</td>\n",
       "    </tr>\n",
       "    <tr>\n",
       "      <th>3</th>\n",
       "      <td>201804010003</td>\n",
       "      <td>V10O1610293</td>\n",
       "      <td>1</td>\n",
       "      <td>67</td>\n",
       "      <td>-9999</td>\n",
       "      <td>-9999</td>\n",
       "      <td>48</td>\n",
       "      <td>14.9</td>\n",
       "      <td>51</td>\n",
       "      <td>40.0</td>\n",
       "      <td>NaN</td>\n",
       "    </tr>\n",
       "    <tr>\n",
       "      <th>4</th>\n",
       "      <td>201804010004</td>\n",
       "      <td>V10O1610293</td>\n",
       "      <td>1</td>\n",
       "      <td>59</td>\n",
       "      <td>-9999</td>\n",
       "      <td>-9999</td>\n",
       "      <td>48</td>\n",
       "      <td>14.9</td>\n",
       "      <td>51</td>\n",
       "      <td>35.0</td>\n",
       "      <td>NaN</td>\n",
       "    </tr>\n",
       "  </tbody>\n",
       "</table>\n",
       "</div>"
      ],
      "text/plain": [
       "             tm       serial  flag  pm10   co2  vocs  noise  temp  humi  pm25  \\\n",
       "0  201804010000  V10O1610293     1    67 -9999 -9999     48  15.0    51  40.0   \n",
       "1  201804010001  V10O1610293     1    61 -9999 -9999     48  15.0    51  37.0   \n",
       "2  201804010002  V10O1610293     1    56 -9999 -9999     48  14.9    51  34.0   \n",
       "3  201804010003  V10O1610293     1    67 -9999 -9999     48  14.9    51  40.0   \n",
       "4  201804010004  V10O1610293     1    59 -9999 -9999     48  14.9    51  35.0   \n",
       "\n",
       "   Unnamed: 10  \n",
       "0          NaN  \n",
       "1          NaN  \n",
       "2          NaN  \n",
       "3          NaN  \n",
       "4          NaN  "
      ]
     },
     "execution_count": 173,
     "metadata": {},
     "output_type": "execute_result"
    }
   ],
   "source": [
    "dataframe1.info()\n",
    "dataframe1.head()"
   ]
  },
  {
   "cell_type": "code",
   "execution_count": 174,
   "metadata": {},
   "outputs": [],
   "source": [
    "#원하는 조건의 '행'만 가져오기 \n",
    "#(오전6시에 측정한 값)\n",
    "newdf1 = dataframe1[dataframe1['tm']%10000 == 600]\n",
    "#(pm10이 -999인 값 제거)\n",
    "newdf1 = newdf1[newdf1['pm10'] != -999]\n",
    "\n",
    "#필요없는 '열' 버리기\n",
    "newdf1.drop(['serial','flag','co2','vocs','noise','temp','humi','pm25','Unnamed: 10'],axis=\"columns\", inplace=True)"
   ]
  },
  {
   "cell_type": "code",
   "execution_count": 175,
   "metadata": {},
   "outputs": [],
   "source": [
    "# 'tm'열의 값 10000으로 나눈 몫으로 교체 \n",
    "# (년월일시분 -> 년월일)\n",
    "# (밑에서 데이터를 합치기 위해..)\n",
    "newdf1['tm'] = newdf1['tm']//10000"
   ]
  },
  {
   "cell_type": "code",
   "execution_count": 176,
   "metadata": {},
   "outputs": [
    {
     "name": "stdout",
     "output_type": "stream",
     "text": [
      "<class 'pandas.core.frame.DataFrame'>\n",
      "Int64Index: 342 entries, 360 to 494280\n",
      "Data columns (total 2 columns):\n",
      "tm      342 non-null int64\n",
      "pm10    342 non-null int64\n",
      "dtypes: int64(2)\n",
      "memory usage: 8.0 KB\n"
     ]
    },
    {
     "data": {
      "text/html": [
       "<div>\n",
       "<style scoped>\n",
       "    .dataframe tbody tr th:only-of-type {\n",
       "        vertical-align: middle;\n",
       "    }\n",
       "\n",
       "    .dataframe tbody tr th {\n",
       "        vertical-align: top;\n",
       "    }\n",
       "\n",
       "    .dataframe thead th {\n",
       "        text-align: right;\n",
       "    }\n",
       "</style>\n",
       "<table border=\"1\" class=\"dataframe\">\n",
       "  <thead>\n",
       "    <tr style=\"text-align: right;\">\n",
       "      <th></th>\n",
       "      <th>tm</th>\n",
       "      <th>pm10</th>\n",
       "    </tr>\n",
       "  </thead>\n",
       "  <tbody>\n",
       "    <tr>\n",
       "      <th>360</th>\n",
       "      <td>20180401</td>\n",
       "      <td>67</td>\n",
       "    </tr>\n",
       "    <tr>\n",
       "      <th>1800</th>\n",
       "      <td>20180402</td>\n",
       "      <td>67</td>\n",
       "    </tr>\n",
       "    <tr>\n",
       "      <th>3240</th>\n",
       "      <td>20180403</td>\n",
       "      <td>79</td>\n",
       "    </tr>\n",
       "    <tr>\n",
       "      <th>4680</th>\n",
       "      <td>20180404</td>\n",
       "      <td>1</td>\n",
       "    </tr>\n",
       "    <tr>\n",
       "      <th>6120</th>\n",
       "      <td>20180405</td>\n",
       "      <td>4</td>\n",
       "    </tr>\n",
       "  </tbody>\n",
       "</table>\n",
       "</div>"
      ],
      "text/plain": [
       "            tm  pm10\n",
       "360   20180401    67\n",
       "1800  20180402    67\n",
       "3240  20180403    79\n",
       "4680  20180404     1\n",
       "6120  20180405     4"
      ]
     },
     "execution_count": 176,
     "metadata": {},
     "output_type": "execute_result"
    }
   ],
   "source": [
    "newdf1.info()\n",
    "newdf1.head()"
   ]
  },
  {
   "cell_type": "markdown",
   "metadata": {},
   "source": [
    "## [두번째 dataframe 받아와서 정제하기]"
   ]
  },
  {
   "cell_type": "code",
   "execution_count": 177,
   "metadata": {},
   "outputs": [],
   "source": [
    "#하나의 엑셀파일내에 있는 여러시트중 하나의 시트를 불러온다.\n",
    "xls = pd.ExcelFile('GS리테일_동별 매출지수용 기준값 확인_AMT_NEW.xlsx')\n",
    "dataframe2 = pd.read_excel(xls, '종합테이블')"
   ]
  },
  {
   "cell_type": "code",
   "execution_count": 178,
   "metadata": {},
   "outputs": [
    {
     "name": "stdout",
     "output_type": "stream",
     "text": [
      "<class 'pandas.core.frame.DataFrame'>\n",
      "RangeIndex: 13125 entries, 0 to 13124\n",
      "Data columns (total 12 columns):\n",
      "OPER_DT      13125 non-null int64\n",
      "BOR_CD       13125 non-null int64\n",
      "ADMD_CD      13125 non-null int64\n",
      "AMT_IND      13125 non-null float64\n",
      "LCLS_10_P    13125 non-null float64\n",
      "LCLS_20_P    13125 non-null float64\n",
      "LCLS_30_P    13125 non-null float64\n",
      "LCLS_40_P    13093 non-null float64\n",
      "LCLS_50_P    13123 non-null float64\n",
      "LCLS_60_P    12075 non-null float64\n",
      "LCLS_70_P    12886 non-null float64\n",
      "LCLS_80_P    12543 non-null float64\n",
      "dtypes: float64(9), int64(3)\n",
      "memory usage: 1.2 MB\n"
     ]
    },
    {
     "data": {
      "text/html": [
       "<div>\n",
       "<style scoped>\n",
       "    .dataframe tbody tr th:only-of-type {\n",
       "        vertical-align: middle;\n",
       "    }\n",
       "\n",
       "    .dataframe tbody tr th {\n",
       "        vertical-align: top;\n",
       "    }\n",
       "\n",
       "    .dataframe thead th {\n",
       "        text-align: right;\n",
       "    }\n",
       "</style>\n",
       "<table border=\"1\" class=\"dataframe\">\n",
       "  <thead>\n",
       "    <tr style=\"text-align: right;\">\n",
       "      <th></th>\n",
       "      <th>OPER_DT</th>\n",
       "      <th>BOR_CD</th>\n",
       "      <th>ADMD_CD</th>\n",
       "      <th>AMT_IND</th>\n",
       "      <th>LCLS_10_P</th>\n",
       "      <th>LCLS_20_P</th>\n",
       "      <th>LCLS_30_P</th>\n",
       "      <th>LCLS_40_P</th>\n",
       "      <th>LCLS_50_P</th>\n",
       "      <th>LCLS_60_P</th>\n",
       "      <th>LCLS_70_P</th>\n",
       "      <th>LCLS_80_P</th>\n",
       "    </tr>\n",
       "  </thead>\n",
       "  <tbody>\n",
       "    <tr>\n",
       "      <th>0</th>\n",
       "      <td>20180401</td>\n",
       "      <td>1111</td>\n",
       "      <td>11110515</td>\n",
       "      <td>0.736933</td>\n",
       "      <td>0.279018</td>\n",
       "      <td>0.299569</td>\n",
       "      <td>0.334816</td>\n",
       "      <td>0.015636</td>\n",
       "      <td>0.053782</td>\n",
       "      <td>0.000265</td>\n",
       "      <td>0.013092</td>\n",
       "      <td>0.003823</td>\n",
       "    </tr>\n",
       "    <tr>\n",
       "      <th>1</th>\n",
       "      <td>20180401</td>\n",
       "      <td>1111</td>\n",
       "      <td>11110530</td>\n",
       "      <td>1.258473</td>\n",
       "      <td>0.237403</td>\n",
       "      <td>0.257984</td>\n",
       "      <td>0.349826</td>\n",
       "      <td>0.045502</td>\n",
       "      <td>0.092581</td>\n",
       "      <td>0.004988</td>\n",
       "      <td>0.002467</td>\n",
       "      <td>0.009250</td>\n",
       "    </tr>\n",
       "    <tr>\n",
       "      <th>2</th>\n",
       "      <td>20180401</td>\n",
       "      <td>1111</td>\n",
       "      <td>11110540</td>\n",
       "      <td>0.674164</td>\n",
       "      <td>0.254081</td>\n",
       "      <td>0.246844</td>\n",
       "      <td>0.324434</td>\n",
       "      <td>0.065025</td>\n",
       "      <td>0.089691</td>\n",
       "      <td>NaN</td>\n",
       "      <td>0.013212</td>\n",
       "      <td>0.006712</td>\n",
       "    </tr>\n",
       "    <tr>\n",
       "      <th>3</th>\n",
       "      <td>20180401</td>\n",
       "      <td>1111</td>\n",
       "      <td>11110550</td>\n",
       "      <td>1.010874</td>\n",
       "      <td>0.416368</td>\n",
       "      <td>0.217715</td>\n",
       "      <td>0.282613</td>\n",
       "      <td>0.026738</td>\n",
       "      <td>0.036622</td>\n",
       "      <td>0.005893</td>\n",
       "      <td>0.012295</td>\n",
       "      <td>0.001756</td>\n",
       "    </tr>\n",
       "    <tr>\n",
       "      <th>4</th>\n",
       "      <td>20180401</td>\n",
       "      <td>1111</td>\n",
       "      <td>11110560</td>\n",
       "      <td>1.012942</td>\n",
       "      <td>0.311321</td>\n",
       "      <td>0.267387</td>\n",
       "      <td>0.262358</td>\n",
       "      <td>0.014736</td>\n",
       "      <td>0.135350</td>\n",
       "      <td>NaN</td>\n",
       "      <td>0.007270</td>\n",
       "      <td>0.001577</td>\n",
       "    </tr>\n",
       "  </tbody>\n",
       "</table>\n",
       "</div>"
      ],
      "text/plain": [
       "    OPER_DT  BOR_CD   ADMD_CD   AMT_IND  LCLS_10_P  LCLS_20_P  LCLS_30_P  \\\n",
       "0  20180401    1111  11110515  0.736933   0.279018   0.299569   0.334816   \n",
       "1  20180401    1111  11110530  1.258473   0.237403   0.257984   0.349826   \n",
       "2  20180401    1111  11110540  0.674164   0.254081   0.246844   0.324434   \n",
       "3  20180401    1111  11110550  1.010874   0.416368   0.217715   0.282613   \n",
       "4  20180401    1111  11110560  1.012942   0.311321   0.267387   0.262358   \n",
       "\n",
       "   LCLS_40_P  LCLS_50_P  LCLS_60_P  LCLS_70_P  LCLS_80_P  \n",
       "0   0.015636   0.053782   0.000265   0.013092   0.003823  \n",
       "1   0.045502   0.092581   0.004988   0.002467   0.009250  \n",
       "2   0.065025   0.089691        NaN   0.013212   0.006712  \n",
       "3   0.026738   0.036622   0.005893   0.012295   0.001756  \n",
       "4   0.014736   0.135350        NaN   0.007270   0.001577  "
      ]
     },
     "execution_count": 178,
     "metadata": {},
     "output_type": "execute_result"
    }
   ],
   "source": [
    "dataframe2.info()\n",
    "dataframe2.head()"
   ]
  },
  {
   "cell_type": "code",
   "execution_count": 179,
   "metadata": {
    "scrolled": true
   },
   "outputs": [],
   "source": [
    "#주소가 종로구 상계10동인 곳만 받아온다.\n",
    "newdf2 = dataframe2[dataframe2['ADMD_CD']==11350720]\n",
    "\n",
    "#필요없는 '열'은 버린다.\n",
    "newdf2.drop(['BOR_CD','LCLS_10_P','LCLS_20_P','LCLS_30_P','LCLS_40_P','LCLS_60_P','LCLS_70_P','LCLS_80_P'],axis=\"columns\", inplace=True)"
   ]
  },
  {
   "cell_type": "code",
   "execution_count": 180,
   "metadata": {},
   "outputs": [],
   "source": [
    "# '열' 이름 바꾸기 (OPER_DT -> tm)\n",
    "# (밑에서 데이터를 합치기 위해..)\n",
    "newdf2.rename(columns={'OPER_DT': 'tm'}, inplace=True)"
   ]
  },
  {
   "cell_type": "code",
   "execution_count": 181,
   "metadata": {
    "scrolled": true
   },
   "outputs": [
    {
     "name": "stdout",
     "output_type": "stream",
     "text": [
      "<class 'pandas.core.frame.DataFrame'>\n",
      "Int64Index: 365 entries, 35 to 13124\n",
      "Data columns (total 4 columns):\n",
      "tm           365 non-null int64\n",
      "ADMD_CD      365 non-null int64\n",
      "AMT_IND      365 non-null float64\n",
      "LCLS_50_P    365 non-null float64\n",
      "dtypes: float64(2), int64(2)\n",
      "memory usage: 14.3 KB\n"
     ]
    },
    {
     "data": {
      "text/html": [
       "<div>\n",
       "<style scoped>\n",
       "    .dataframe tbody tr th:only-of-type {\n",
       "        vertical-align: middle;\n",
       "    }\n",
       "\n",
       "    .dataframe tbody tr th {\n",
       "        vertical-align: top;\n",
       "    }\n",
       "\n",
       "    .dataframe thead th {\n",
       "        text-align: right;\n",
       "    }\n",
       "</style>\n",
       "<table border=\"1\" class=\"dataframe\">\n",
       "  <thead>\n",
       "    <tr style=\"text-align: right;\">\n",
       "      <th></th>\n",
       "      <th>tm</th>\n",
       "      <th>ADMD_CD</th>\n",
       "      <th>AMT_IND</th>\n",
       "      <th>LCLS_50_P</th>\n",
       "    </tr>\n",
       "  </thead>\n",
       "  <tbody>\n",
       "    <tr>\n",
       "      <th>35</th>\n",
       "      <td>20180401</td>\n",
       "      <td>11350720</td>\n",
       "      <td>0.753311</td>\n",
       "      <td>0.046199</td>\n",
       "    </tr>\n",
       "    <tr>\n",
       "      <th>71</th>\n",
       "      <td>20180402</td>\n",
       "      <td>11350720</td>\n",
       "      <td>0.793845</td>\n",
       "      <td>0.052453</td>\n",
       "    </tr>\n",
       "    <tr>\n",
       "      <th>107</th>\n",
       "      <td>20180403</td>\n",
       "      <td>11350720</td>\n",
       "      <td>0.729169</td>\n",
       "      <td>0.046356</td>\n",
       "    </tr>\n",
       "    <tr>\n",
       "      <th>143</th>\n",
       "      <td>20180404</td>\n",
       "      <td>11350720</td>\n",
       "      <td>0.771234</td>\n",
       "      <td>0.064546</td>\n",
       "    </tr>\n",
       "    <tr>\n",
       "      <th>179</th>\n",
       "      <td>20180405</td>\n",
       "      <td>11350720</td>\n",
       "      <td>0.718121</td>\n",
       "      <td>0.061702</td>\n",
       "    </tr>\n",
       "  </tbody>\n",
       "</table>\n",
       "</div>"
      ],
      "text/plain": [
       "           tm   ADMD_CD   AMT_IND  LCLS_50_P\n",
       "35   20180401  11350720  0.753311   0.046199\n",
       "71   20180402  11350720  0.793845   0.052453\n",
       "107  20180403  11350720  0.729169   0.046356\n",
       "143  20180404  11350720  0.771234   0.064546\n",
       "179  20180405  11350720  0.718121   0.061702"
      ]
     },
     "execution_count": 181,
     "metadata": {},
     "output_type": "execute_result"
    }
   ],
   "source": [
    "newdf2.info()\n",
    "newdf2.head()"
   ]
  },
  {
   "cell_type": "markdown",
   "metadata": {},
   "source": [
    "## [정제된 첫번째,두번째 데이터 합치기]"
   ]
  },
  {
   "cell_type": "code",
   "execution_count": 182,
   "metadata": {},
   "outputs": [],
   "source": [
    "finalDf = pd.merge(newdf1,newdf2)"
   ]
  },
  {
   "cell_type": "code",
   "execution_count": 183,
   "metadata": {},
   "outputs": [
    {
     "name": "stdout",
     "output_type": "stream",
     "text": [
      "<class 'pandas.core.frame.DataFrame'>\n",
      "Int64Index: 342 entries, 0 to 341\n",
      "Data columns (total 5 columns):\n",
      "tm           342 non-null int64\n",
      "pm10         342 non-null int64\n",
      "ADMD_CD      342 non-null int64\n",
      "AMT_IND      342 non-null float64\n",
      "LCLS_50_P    342 non-null float64\n",
      "dtypes: float64(2), int64(3)\n",
      "memory usage: 16.0 KB\n"
     ]
    },
    {
     "data": {
      "text/html": [
       "<div>\n",
       "<style scoped>\n",
       "    .dataframe tbody tr th:only-of-type {\n",
       "        vertical-align: middle;\n",
       "    }\n",
       "\n",
       "    .dataframe tbody tr th {\n",
       "        vertical-align: top;\n",
       "    }\n",
       "\n",
       "    .dataframe thead th {\n",
       "        text-align: right;\n",
       "    }\n",
       "</style>\n",
       "<table border=\"1\" class=\"dataframe\">\n",
       "  <thead>\n",
       "    <tr style=\"text-align: right;\">\n",
       "      <th></th>\n",
       "      <th>tm</th>\n",
       "      <th>pm10</th>\n",
       "      <th>ADMD_CD</th>\n",
       "      <th>AMT_IND</th>\n",
       "      <th>LCLS_50_P</th>\n",
       "    </tr>\n",
       "  </thead>\n",
       "  <tbody>\n",
       "    <tr>\n",
       "      <th>0</th>\n",
       "      <td>20180401</td>\n",
       "      <td>67</td>\n",
       "      <td>11350720</td>\n",
       "      <td>0.753311</td>\n",
       "      <td>0.046199</td>\n",
       "    </tr>\n",
       "    <tr>\n",
       "      <th>1</th>\n",
       "      <td>20180402</td>\n",
       "      <td>67</td>\n",
       "      <td>11350720</td>\n",
       "      <td>0.793845</td>\n",
       "      <td>0.052453</td>\n",
       "    </tr>\n",
       "    <tr>\n",
       "      <th>2</th>\n",
       "      <td>20180403</td>\n",
       "      <td>79</td>\n",
       "      <td>11350720</td>\n",
       "      <td>0.729169</td>\n",
       "      <td>0.046356</td>\n",
       "    </tr>\n",
       "    <tr>\n",
       "      <th>3</th>\n",
       "      <td>20180404</td>\n",
       "      <td>1</td>\n",
       "      <td>11350720</td>\n",
       "      <td>0.771234</td>\n",
       "      <td>0.064546</td>\n",
       "    </tr>\n",
       "    <tr>\n",
       "      <th>4</th>\n",
       "      <td>20180405</td>\n",
       "      <td>4</td>\n",
       "      <td>11350720</td>\n",
       "      <td>0.718121</td>\n",
       "      <td>0.061702</td>\n",
       "    </tr>\n",
       "  </tbody>\n",
       "</table>\n",
       "</div>"
      ],
      "text/plain": [
       "         tm  pm10   ADMD_CD   AMT_IND  LCLS_50_P\n",
       "0  20180401    67  11350720  0.753311   0.046199\n",
       "1  20180402    67  11350720  0.793845   0.052453\n",
       "2  20180403    79  11350720  0.729169   0.046356\n",
       "3  20180404     1  11350720  0.771234   0.064546\n",
       "4  20180405     4  11350720  0.718121   0.061702"
      ]
     },
     "execution_count": 183,
     "metadata": {},
     "output_type": "execute_result"
    }
   ],
   "source": [
    "finalDf.info()\n",
    "finalDf.head()"
   ]
  },
  {
   "cell_type": "code",
   "execution_count": 184,
   "metadata": {},
   "outputs": [
    {
     "data": {
      "text/html": [
       "<div>\n",
       "<style scoped>\n",
       "    .dataframe tbody tr th:only-of-type {\n",
       "        vertical-align: middle;\n",
       "    }\n",
       "\n",
       "    .dataframe tbody tr th {\n",
       "        vertical-align: top;\n",
       "    }\n",
       "\n",
       "    .dataframe thead th {\n",
       "        text-align: right;\n",
       "    }\n",
       "</style>\n",
       "<table border=\"1\" class=\"dataframe\">\n",
       "  <thead>\n",
       "    <tr style=\"text-align: right;\">\n",
       "      <th></th>\n",
       "      <th>tm</th>\n",
       "      <th>pm10</th>\n",
       "      <th>ADMD_CD</th>\n",
       "      <th>AMT_IND</th>\n",
       "      <th>LCLS_50_P</th>\n",
       "    </tr>\n",
       "  </thead>\n",
       "  <tbody>\n",
       "    <tr>\n",
       "      <th>count</th>\n",
       "      <td>3.420000e+02</td>\n",
       "      <td>342.000000</td>\n",
       "      <td>342.0</td>\n",
       "      <td>342.000000</td>\n",
       "      <td>342.000000</td>\n",
       "    </tr>\n",
       "    <tr>\n",
       "      <th>mean</th>\n",
       "      <td>2.018328e+07</td>\n",
       "      <td>56.850877</td>\n",
       "      <td>11350720.0</td>\n",
       "      <td>0.828902</td>\n",
       "      <td>0.050070</td>\n",
       "    </tr>\n",
       "    <tr>\n",
       "      <th>std</th>\n",
       "      <td>4.155737e+03</td>\n",
       "      <td>53.548657</td>\n",
       "      <td>0.0</td>\n",
       "      <td>0.117195</td>\n",
       "      <td>0.018609</td>\n",
       "    </tr>\n",
       "    <tr>\n",
       "      <th>min</th>\n",
       "      <td>2.018040e+07</td>\n",
       "      <td>1.000000</td>\n",
       "      <td>11350720.0</td>\n",
       "      <td>0.617784</td>\n",
       "      <td>0.013879</td>\n",
       "    </tr>\n",
       "    <tr>\n",
       "      <th>25%</th>\n",
       "      <td>2.018063e+07</td>\n",
       "      <td>27.000000</td>\n",
       "      <td>11350720.0</td>\n",
       "      <td>0.735518</td>\n",
       "      <td>0.039319</td>\n",
       "    </tr>\n",
       "    <tr>\n",
       "      <th>50%</th>\n",
       "      <td>2.018101e+07</td>\n",
       "      <td>43.000000</td>\n",
       "      <td>11350720.0</td>\n",
       "      <td>0.817306</td>\n",
       "      <td>0.045782</td>\n",
       "    </tr>\n",
       "    <tr>\n",
       "      <th>75%</th>\n",
       "      <td>2.019010e+07</td>\n",
       "      <td>64.750000</td>\n",
       "      <td>11350720.0</td>\n",
       "      <td>0.903725</td>\n",
       "      <td>0.056589</td>\n",
       "    </tr>\n",
       "    <tr>\n",
       "      <th>max</th>\n",
       "      <td>2.019033e+07</td>\n",
       "      <td>469.000000</td>\n",
       "      <td>11350720.0</td>\n",
       "      <td>1.303067</td>\n",
       "      <td>0.149348</td>\n",
       "    </tr>\n",
       "  </tbody>\n",
       "</table>\n",
       "</div>"
      ],
      "text/plain": [
       "                 tm        pm10     ADMD_CD     AMT_IND   LCLS_50_P\n",
       "count  3.420000e+02  342.000000       342.0  342.000000  342.000000\n",
       "mean   2.018328e+07   56.850877  11350720.0    0.828902    0.050070\n",
       "std    4.155737e+03   53.548657         0.0    0.117195    0.018609\n",
       "min    2.018040e+07    1.000000  11350720.0    0.617784    0.013879\n",
       "25%    2.018063e+07   27.000000  11350720.0    0.735518    0.039319\n",
       "50%    2.018101e+07   43.000000  11350720.0    0.817306    0.045782\n",
       "75%    2.019010e+07   64.750000  11350720.0    0.903725    0.056589\n",
       "max    2.019033e+07  469.000000  11350720.0    1.303067    0.149348"
      ]
     },
     "execution_count": 184,
     "metadata": {},
     "output_type": "execute_result"
    }
   ],
   "source": [
    "finalDf.describe()"
   ]
  },
  {
   "cell_type": "code",
   "execution_count": 185,
   "metadata": {},
   "outputs": [],
   "source": [
    "# 총매출(AMT_IND)의 평균, 헬스뷰티매출(LCLS_50_P)의 평균\n",
    "meanAMT = finalDf['AMT_IND'].mean()\n",
    "meanLCLS = finalDf['LCLS_50_P'].mean()"
   ]
  },
  {
   "cell_type": "code",
   "execution_count": 186,
   "metadata": {},
   "outputs": [],
   "source": [
    "# 평균보다 높으면 1, 낮으면 0\n",
    "finalDf['AMT_IND'] = np.where(finalDf['AMT_IND'] > meanAMT, 1, 0)\n",
    "finalDf['LCLS_50_P'] = np.where(finalDf['LCLS_50_P'] > meanLCLS, 1, 0)"
   ]
  },
  {
   "cell_type": "code",
   "execution_count": 187,
   "metadata": {},
   "outputs": [
    {
     "name": "stdout",
     "output_type": "stream",
     "text": [
      "<class 'pandas.core.frame.DataFrame'>\n",
      "Int64Index: 342 entries, 0 to 341\n",
      "Data columns (total 5 columns):\n",
      "tm           342 non-null int64\n",
      "pm10         342 non-null int64\n",
      "ADMD_CD      342 non-null int64\n",
      "AMT_IND      342 non-null int64\n",
      "LCLS_50_P    342 non-null int64\n",
      "dtypes: int64(5)\n",
      "memory usage: 16.0 KB\n"
     ]
    },
    {
     "data": {
      "text/html": [
       "<div>\n",
       "<style scoped>\n",
       "    .dataframe tbody tr th:only-of-type {\n",
       "        vertical-align: middle;\n",
       "    }\n",
       "\n",
       "    .dataframe tbody tr th {\n",
       "        vertical-align: top;\n",
       "    }\n",
       "\n",
       "    .dataframe thead th {\n",
       "        text-align: right;\n",
       "    }\n",
       "</style>\n",
       "<table border=\"1\" class=\"dataframe\">\n",
       "  <thead>\n",
       "    <tr style=\"text-align: right;\">\n",
       "      <th></th>\n",
       "      <th>tm</th>\n",
       "      <th>pm10</th>\n",
       "      <th>ADMD_CD</th>\n",
       "      <th>AMT_IND</th>\n",
       "      <th>LCLS_50_P</th>\n",
       "    </tr>\n",
       "  </thead>\n",
       "  <tbody>\n",
       "    <tr>\n",
       "      <th>0</th>\n",
       "      <td>20180401</td>\n",
       "      <td>67</td>\n",
       "      <td>11350720</td>\n",
       "      <td>0</td>\n",
       "      <td>0</td>\n",
       "    </tr>\n",
       "    <tr>\n",
       "      <th>1</th>\n",
       "      <td>20180402</td>\n",
       "      <td>67</td>\n",
       "      <td>11350720</td>\n",
       "      <td>0</td>\n",
       "      <td>1</td>\n",
       "    </tr>\n",
       "    <tr>\n",
       "      <th>2</th>\n",
       "      <td>20180403</td>\n",
       "      <td>79</td>\n",
       "      <td>11350720</td>\n",
       "      <td>0</td>\n",
       "      <td>0</td>\n",
       "    </tr>\n",
       "    <tr>\n",
       "      <th>3</th>\n",
       "      <td>20180404</td>\n",
       "      <td>1</td>\n",
       "      <td>11350720</td>\n",
       "      <td>0</td>\n",
       "      <td>1</td>\n",
       "    </tr>\n",
       "    <tr>\n",
       "      <th>4</th>\n",
       "      <td>20180405</td>\n",
       "      <td>4</td>\n",
       "      <td>11350720</td>\n",
       "      <td>0</td>\n",
       "      <td>1</td>\n",
       "    </tr>\n",
       "  </tbody>\n",
       "</table>\n",
       "</div>"
      ],
      "text/plain": [
       "         tm  pm10   ADMD_CD  AMT_IND  LCLS_50_P\n",
       "0  20180401    67  11350720        0          0\n",
       "1  20180402    67  11350720        0          1\n",
       "2  20180403    79  11350720        0          0\n",
       "3  20180404     1  11350720        0          1\n",
       "4  20180405     4  11350720        0          1"
      ]
     },
     "execution_count": 187,
     "metadata": {},
     "output_type": "execute_result"
    }
   ],
   "source": [
    "finalDf.info()\n",
    "finalDf.head()"
   ]
  },
  {
   "cell_type": "code",
   "execution_count": 188,
   "metadata": {},
   "outputs": [
    {
     "data": {
      "image/png": "[encoded data removed]",
      "text/plain": [
       "<Figure size 720x360 with 1 Axes>"
      ]
     },
     "metadata": {
      "needs_background": "light"
     },
     "output_type": "display_data"
    }
   ],
   "source": [
    "%matplotlib inline\n",
    "import matplotlib.pyplot as plt\n",
    "\n",
    "finalDf[\"pm10\"].hist(bins=60, figsize=(10,5))\n",
    "plt.title(\"(pm10)MicroDust\")\n",
    "plt.show()"
   ]
  },
  {
   "cell_type": "code",
   "execution_count": 189,
   "metadata": {},
   "outputs": [],
   "source": [
    "#새로운 csv파일 만들기\n",
    "#(필요한 자료만 모아 정제된 csv파일)\n",
    "finalDf.to_csv(\"finalCsv.csv\")"
   ]
  },
  {
   "cell_type": "markdown",
   "metadata": {},
   "source": [
    "## [Train & Test]"
   ]
  },
  {
   "cell_type": "code",
   "execution_count": 190,
   "metadata": {},
   "outputs": [
    {
     "name": "stdout",
     "output_type": "stream",
     "text": [
      "218 훈련 샘플\n",
      "55 검증 샘플\n",
      "69 테스트 샘플\n"
     ]
    }
   ],
   "source": [
    "train, test = train_test_split(finalDf, test_size=0.2)\n",
    "train, val = train_test_split(train, test_size=0.2)\n",
    "print(len(train), '훈련 샘플')\n",
    "print(len(val), '검증 샘플')\n",
    "print(len(test), '테스트 샘플')"
   ]
  },
  {
   "cell_type": "code",
   "execution_count": 191,
   "metadata": {},
   "outputs": [],
   "source": [
    "# 판다스 데이터프레임으로부터 tf.data 데이터셋을 만들기 위한 함수\n",
    "def df_to_dataset(finalDf, shuffle=True, batch_size=32):\n",
    "  finalDf = finalDf.copy()\n",
    "  labels = finalDf.pop('AMT_IND')\n",
    "  ds = tf.data.Dataset.from_tensor_slices((dict(finalDf), labels))\n",
    "  if shuffle:\n",
    "    ds = ds.shuffle(buffer_size=len(finalDf))\n",
    "  ds = ds.batch(batch_size)\n",
    "  return ds"
   ]
  },
  {
   "cell_type": "code",
   "execution_count": 192,
   "metadata": {},
   "outputs": [],
   "source": [
    "batch_size = 5 # 예제를 위해 작은 배치 크기를 사용합니다.\n",
    "train_ds = df_to_dataset(train, batch_size=batch_size)\n",
    "val_ds = df_to_dataset(val, shuffle=False, batch_size=batch_size)\n",
    "test_ds = df_to_dataset(test, shuffle=False, batch_size=batch_size)"
   ]
  },
  {
   "cell_type": "code",
   "execution_count": 193,
   "metadata": {},
   "outputs": [
    {
     "name": "stdout",
     "output_type": "stream",
     "text": [
      "전체 특성: ['tm', 'pm10', 'ADMD_CD', 'LCLS_50_P']\n",
      "pm10 특성의 배치: tf.Tensor([17 27 22 42 82], shape=(5,), dtype=int32)\n",
      "타깃의 배치: tf.Tensor([1 0 1 1 0], shape=(5,), dtype=int32)\n"
     ]
    }
   ],
   "source": [
    "for feature_batch, label_batch in train_ds.take(1):\n",
    "  print('전체 특성:', list(feature_batch.keys()))\n",
    "  print('pm10 특성의 배치:', feature_batch['pm10'])\n",
    "  print('타깃의 배치:', label_batch )"
   ]
  },
  {
   "cell_type": "code",
   "execution_count": 201,
   "metadata": {},
   "outputs": [],
   "source": [
    "feature_columns = []\n",
    "for header in ['pm10']:\n",
    "  feature_columns.append(feature_column.numeric_column(header))"
   ]
  },
  {
   "cell_type": "code",
   "execution_count": 202,
   "metadata": {},
   "outputs": [],
   "source": [
    "feature_layer = tf.keras.layers.DenseFeatures(feature_columns)"
   ]
  },
  {
   "cell_type": "code",
   "execution_count": 203,
   "metadata": {},
   "outputs": [],
   "source": [
    "batch_size = 32\n",
    "train_ds = df_to_dataset(train, batch_size=batch_size)\n",
    "val_ds = df_to_dataset(val, shuffle=False, batch_size=batch_size)\n",
    "test_ds = df_to_dataset(test, shuffle=False, batch_size=batch_size)"
   ]
  },
  {
   "cell_type": "code",
   "execution_count": 204,
   "metadata": {
    "scrolled": true
   },
   "outputs": [
    {
     "name": "stdout",
     "output_type": "stream",
     "text": [
      "Epoch 1/20\n",
      "7/7 [==============================] - 1s 110ms/step - loss: 1.7967 - accuracy: 0.5275 - val_loss: 0.0000e+00 - val_accuracy: 0.0000e+00\n",
      "Epoch 2/20\n",
      "7/7 [==============================] - 0s 9ms/step - loss: 1.0335 - accuracy: 0.4725 - val_loss: 0.6836 - val_accuracy: 0.5273\n",
      "Epoch 3/20\n",
      "7/7 [==============================] - 0s 8ms/step - loss: 0.9438 - accuracy: 0.5413 - val_loss: 0.8777 - val_accuracy: 0.4727\n",
      "Epoch 4/20\n",
      "7/7 [==============================] - 0s 8ms/step - loss: 0.9474 - accuracy: 0.5183 - val_loss: 0.7697 - val_accuracy: 0.5273\n",
      "Epoch 5/20\n",
      "7/7 [==============================] - 0s 8ms/step - loss: 0.8336 - accuracy: 0.5183 - val_loss: 0.9290 - val_accuracy: 0.4727\n",
      "Epoch 6/20\n",
      "7/7 [==============================] - 0s 8ms/step - loss: 0.8919 - accuracy: 0.5505 - val_loss: 0.6869 - val_accuracy: 0.5273\n",
      "Epoch 7/20\n",
      "7/7 [==============================] - 0s 8ms/step - loss: 0.7886 - accuracy: 0.5229 - val_loss: 0.6694 - val_accuracy: 0.5273\n",
      "Epoch 8/20\n",
      "7/7 [==============================] - 0s 7ms/step - loss: 0.7651 - accuracy: 0.5046 - val_loss: 0.7509 - val_accuracy: 0.4727\n",
      "Epoch 9/20\n",
      "7/7 [==============================] - 0s 7ms/step - loss: 0.7225 - accuracy: 0.4954 - val_loss: 0.6661 - val_accuracy: 0.5273\n",
      "Epoch 10/20\n",
      "7/7 [==============================] - 0s 7ms/step - loss: 0.7054 - accuracy: 0.4771 - val_loss: 0.6673 - val_accuracy: 0.5273\n",
      "Epoch 11/20\n",
      "7/7 [==============================] - 0s 8ms/step - loss: 0.7313 - accuracy: 0.5046 - val_loss: 0.6780 - val_accuracy: 0.5273\n",
      "Epoch 12/20\n",
      "7/7 [==============================] - 0s 8ms/step - loss: 0.7643 - accuracy: 0.5046 - val_loss: 0.8958 - val_accuracy: 0.4727\n",
      "Epoch 13/20\n",
      "7/7 [==============================] - 0s 7ms/step - loss: 0.7885 - accuracy: 0.5092 - val_loss: 0.6993 - val_accuracy: 0.5273\n",
      "Epoch 14/20\n",
      "7/7 [==============================] - 0s 7ms/step - loss: 0.8174 - accuracy: 0.5367 - val_loss: 0.6942 - val_accuracy: 0.5273\n",
      "Epoch 15/20\n",
      "7/7 [==============================] - 0s 7ms/step - loss: 0.8864 - accuracy: 0.5138 - val_loss: 0.9441 - val_accuracy: 0.4727\n",
      "Epoch 16/20\n",
      "7/7 [==============================] - 0s 7ms/step - loss: 0.7759 - accuracy: 0.5138 - val_loss: 0.7005 - val_accuracy: 0.5273\n",
      "Epoch 17/20\n",
      "7/7 [==============================] - 0s 7ms/step - loss: 0.7901 - accuracy: 0.4312 - val_loss: 0.6679 - val_accuracy: 0.5273\n",
      "Epoch 18/20\n",
      "7/7 [==============================] - 0s 7ms/step - loss: 0.7953 - accuracy: 0.4679 - val_loss: 0.7587 - val_accuracy: 0.4727\n",
      "Epoch 19/20\n",
      "7/7 [==============================] - 0s 8ms/step - loss: 0.7021 - accuracy: 0.4862 - val_loss: 0.6611 - val_accuracy: 0.5273\n",
      "Epoch 20/20\n",
      "7/7 [==============================] - 0s 8ms/step - loss: 0.6936 - accuracy: 0.4862 - val_loss: 0.6697 - val_accuracy: 0.5091\n"
     ]
    },
    {
     "data": {
      "text/plain": [
       "<tensorflow.python.keras.callbacks.History at 0x1a41feae10>"
      ]
     },
     "execution_count": 204,
     "metadata": {},
     "output_type": "execute_result"
    }
   ],
   "source": [
    "model = tf.keras.Sequential([\n",
    "  feature_layer,\n",
    "  layers.Dense(128, activation='relu'),\n",
    "  layers.Dense(128, activation='relu'),\n",
    "  layers.Dense(1, activation='sigmoid')\n",
    "])\n",
    "\n",
    "model.compile(optimizer='adam',\n",
    "              loss='binary_crossentropy',\n",
    "              metrics=['accuracy'])\n",
    "\n",
    "model.fit(train_ds,\n",
    "          validation_data=val_ds,\n",
    "          epochs=20)"
   ]
  },
  {
   "cell_type": "code",
   "execution_count": 205,
   "metadata": {},
   "outputs": [
    {
     "name": "stdout",
     "output_type": "stream",
     "text": [
      "3/3 [==============================] - 0s 3ms/step - loss: 0.6819 - accuracy: 0.5362\n",
      "정확도 0.5362319\n"
     ]
    }
   ],
   "source": [
    "loss, accuracy = model.evaluate(test_ds)\n",
    "print(\"정확도\", accuracy)"
   ]
  }
 ],
 "metadata": {
  "kernelspec": {
   "display_name": "Python [conda env:myenv]",
   "language": "python",
   "name": "conda-env-myenv-py"
  },
  "language_info": {
   "codemirror_mode": {
    "name": "ipython",
    "version": 3
   },
   "file_extension": ".py",
   "mimetype": "text/x-python",
   "name": "python",
   "nbconvert_exporter": "python",
   "pygments_lexer": "ipython3",
   "version": "3.7.4"
  }
 },
 "nbformat": 4,
 "nbformat_minor": 2
}
